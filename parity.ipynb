{
 "cells": [
  {
   "cell_type": "code",
   "execution_count": 1,
   "metadata": {},
   "outputs": [],
   "source": [
    "import numpy as np\n"
   ]
  },
  {
   "cell_type": "code",
   "execution_count": 37,
   "metadata": {},
   "outputs": [],
   "source": [
    "W = np.ones((4,4))\n",
    "\n",
    "\n",
    "B = np.array([ 0,\n",
    "              -1,\n",
    "              -2,\n",
    "              -3])\n",
    "\n",
    "W2 = np.array([1,\n",
    "               -2,\n",
    "               4,\n",
    "               -8])\n"
   ]
  },
  {
   "cell_type": "code",
   "execution_count": 38,
   "metadata": {},
   "outputs": [],
   "source": [
    "def sig(v):\n",
    "    return 1/(1+np.exp(-v))\n"
   ]
  },
  {
   "cell_type": "code",
   "execution_count": 40,
   "metadata": {},
   "outputs": [
    {
     "name": "stdout",
     "output_type": "stream",
     "text": [
      "(array([0, 1, 1, 1]), 1, 1)\n",
      "(array([0, 0, 1, 1]), 0, 0)\n",
      "(array([0, 0, 0, 1]), 1, 1)\n",
      "(array([1, 1, 0, 1]), 1, 1)\n",
      "(array([1, 0, 0, 1]), 0, 0)\n",
      "(array([0, 0, 0, 1]), 1, 1)\n",
      "(array([0, 1, 1, 0]), 0, 0)\n",
      "(array([1, 0, 1, 0]), 0, 0)\n",
      "(array([1, 0, 1, 1]), 1, 1)\n",
      "(array([1, 0, 0, 1]), 0, 0)\n",
      "(array([1, 0, 1, 0]), 0, 0)\n",
      "(array([0, 1, 1, 1]), 1, 1)\n",
      "(array([0, 1, 1, 0]), 0, 0)\n",
      "(array([1, 0, 0, 1]), 0, 0)\n",
      "(array([0, 0, 0, 0]), 0, 0)\n",
      "(array([1, 1, 1, 1]), 0, 0)\n",
      "(array([1, 0, 1, 0]), 0, 0)\n",
      "(array([1, 0, 1, 1]), 1, 1)\n",
      "(array([1, 1, 0, 0]), 0, 0)\n",
      "(array([1, 0, 0, 0]), 1, 1)\n",
      "(array([1, 1, 0, 0]), 0, 0)\n",
      "(array([1, 0, 0, 1]), 0, 0)\n",
      "(array([0, 0, 1, 0]), 1, 1)\n",
      "(array([0, 0, 0, 0]), 0, 0)\n",
      "(array([1, 1, 0, 0]), 0, 0)\n",
      "(array([1, 0, 1, 0]), 0, 0)\n",
      "(array([0, 0, 0, 0]), 0, 0)\n",
      "(array([1, 0, 1, 1]), 1, 1)\n",
      "(array([0, 0, 0, 0]), 0, 0)\n",
      "(array([0, 1, 0, 0]), 1, 1)\n",
      "(array([0, 0, 0, 1]), 1, 1)\n",
      "(array([0, 1, 0, 0]), 1, 1)\n",
      "(array([1, 1, 0, 0]), 0, 0)\n",
      "(array([1, 1, 1, 0]), 1, 1)\n",
      "(array([1, 0, 0, 0]), 1, 1)\n",
      "(array([1, 0, 0, 0]), 1, 1)\n",
      "(array([0, 1, 0, 0]), 1, 1)\n",
      "(array([1, 0, 1, 1]), 1, 1)\n",
      "(array([1, 0, 1, 1]), 1, 1)\n",
      "(array([0, 0, 1, 1]), 0, 0)\n",
      "(array([1, 0, 0, 1]), 0, 0)\n",
      "(array([0, 0, 0, 0]), 0, 0)\n",
      "(array([1, 0, 0, 1]), 0, 0)\n",
      "(array([1, 0, 0, 1]), 0, 0)\n",
      "(array([0, 1, 1, 0]), 0, 0)\n",
      "(array([0, 0, 0, 1]), 1, 1)\n",
      "(array([1, 1, 1, 1]), 0, 0)\n",
      "(array([0, 0, 1, 1]), 0, 0)\n",
      "(array([0, 1, 0, 1]), 0, 0)\n",
      "(array([1, 1, 1, 0]), 1, 1)\n"
     ]
    }
   ],
   "source": [
    "trails = 50\n",
    "for i in xrange(trails):\n",
    "    X = 1*(np.random.uniform(size=(4)) > 0.5)\n",
    "    parity = np.sum(X) % 2\n",
    "    nout = 1*(sig(np.dot(W2,np.maximum(np.dot(W,X) + B,0))) > 0.5)\n",
    "    print (X,parity,nout)\n",
    "    if parity != nout:\n",
    "        print \"No Match\"\n",
    "        break"
   ]
  },
  {
   "cell_type": "code",
   "execution_count": null,
   "metadata": {},
   "outputs": [],
   "source": []
  }
 ],
 "metadata": {
  "kernelspec": {
   "display_name": "Python 2",
   "language": "python",
   "name": "python2"
  },
  "language_info": {
   "codemirror_mode": {
    "name": "ipython",
    "version": 2
   },
   "file_extension": ".py",
   "mimetype": "text/x-python",
   "name": "python",
   "nbconvert_exporter": "python",
   "pygments_lexer": "ipython2",
   "version": "2.7.12"
  }
 },
 "nbformat": 4,
 "nbformat_minor": 2
}
